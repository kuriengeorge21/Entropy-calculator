{
 "cells": [
  {
   "cell_type": "code",
   "execution_count": 6,
   "metadata": {},
   "outputs": [],
   "source": [
    "#Entropy calualtor\n",
    "import math "
   ]
  },
  {
   "cell_type": "code",
   "execution_count": 11,
   "metadata": {},
   "outputs": [
    {
     "name": "stdout",
     "output_type": "stream",
     "text": [
      "   enter a  4\n",
      "   enter b  6\n",
      "   enter t  10\n",
      "0.9709505944546686\n"
     ]
    }
   ],
   "source": [
    "a=float(input('   enter a  '))\n",
    "b=float(input('   enter b  '))\n",
    "t1=float(input('   enter t  '))\n",
    "k1=math.log((a/t1),2.0)\n",
    "k2=math.log((b/t1),2.0)\n",
    "p1=(a/t1)\n",
    "p2=(b/t1)\n",
    "e=-(p1*k1+p2*k2)\n",
    "print(e)\n",
    "#e =-(a/t1)* math.log((a/t1),2)-(b/t1)* math.log((b/t1),2)\n",
    "#e = -((a/t1)* math.log((a/t1)[, 2]))-((b/t1)* math.log((b/t1)[, 2]))\n",
    "#print(e)\n",
    "\n"
   ]
  },
  {
   "cell_type": "code",
   "execution_count": 1,
   "metadata": {},
   "outputs": [
    {
     "name": "stdout",
     "output_type": "stream",
     "text": [
      "C:\\Users\\kurie\n"
     ]
    }
   ],
   "source": [
    "cd\n"
   ]
  },
  {
   "cell_type": "code",
   "execution_count": null,
   "metadata": {},
   "outputs": [],
   "source": []
  }
 ],
 "metadata": {
  "kernelspec": {
   "display_name": "Python 3",
   "language": "python",
   "name": "python3"
  },
  "language_info": {
   "codemirror_mode": {
    "name": "ipython",
    "version": 3
   },
   "file_extension": ".py",
   "mimetype": "text/x-python",
   "name": "python",
   "nbconvert_exporter": "python",
   "pygments_lexer": "ipython3",
   "version": "3.7.6"
  }
 },
 "nbformat": 4,
 "nbformat_minor": 4
}
